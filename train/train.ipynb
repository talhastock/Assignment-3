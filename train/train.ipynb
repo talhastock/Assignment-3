{
 "cells": [
  {
   "cell_type": "code",
   "id": "initial_id",
   "metadata": {
    "collapsed": true,
    "ExecuteTime": {
     "end_time": "2025-10-12T08:52:25.002385Z",
     "start_time": "2025-10-12T08:52:24.870776Z"
    }
   },
   "source": "!python -V\n",
   "outputs": [
    {
     "name": "stdout",
     "output_type": "stream",
     "text": [
      "Python 3.9.6\r\n"
     ]
    }
   ],
   "execution_count": 1
  },
  {
   "metadata": {
    "ExecuteTime": {
     "end_time": "2025-10-12T08:56:59.978488Z",
     "start_time": "2025-10-12T08:56:58.566255Z"
    }
   },
   "cell_type": "code",
   "source": [
    "from __future__ import annotations\n",
    "from sklearn.datasets import load_diabetes\n",
    "from sklearn.linear_model import LinearRegression, Ridge\n",
    "from sklearn.metrics import mean_squared_error, accuracy_score, recall_score\n",
    "from sklearn.model_selection import train_test_split\n",
    "from sklearn.preprocessing import StandardScaler\n",
    "from typing import Dict, Any\n",
    "import numpy as np"
   ],
   "id": "e41f2890e6420f11",
   "outputs": [],
   "execution_count": 2
  },
  {
   "metadata": {
    "ExecuteTime": {
     "end_time": "2025-10-12T08:57:08.684726Z",
     "start_time": "2025-10-12T08:57:08.680618Z"
    }
   },
   "cell_type": "code",
   "source": [
    "\n",
    "\n",
    "MODEL_REGISTRY: Dict[str, Dict[str, Any]] = {\n",
    "    \"linear\": {\n",
    "        \"version\": \"v0.1\",\n",
    "        \"estimator\": LinearRegression,\n",
    "        \"estimator_kwargs\": {},\n",
    "        \"description\": \"StandardScaler + LinearRegression\",\n",
    "    },\n",
    "    \"ridge\": {\n",
    "        \"version\": \"v0.2\",\n",
    "        \"estimator\": Ridge,\n",
    "        \"estimator_kwargs\": {\"alpha\": 1.0},\n",
    "        \"description\": \"StandardScaler + Ridge(alpha=1.0)\",\n",
    "    },\n",
    "}"
   ],
   "id": "83e94b6502b13a19",
   "outputs": [],
   "execution_count": 4
  },
  {
   "metadata": {
    "ExecuteTime": {
     "end_time": "2025-10-12T08:57:10.762542Z",
     "start_time": "2025-10-12T08:57:10.744863Z"
    }
   },
   "cell_type": "code",
   "source": [
    "# Load dataset\n",
    "Xy = load_diabetes(as_frame=True)\n",
    "X = Xy.frame.drop(columns=[\"target\"])\n",
    "y = Xy.frame[\"target\"]\n",
    "\n",
    "feature_names = list(X.columns)\n",
    "\n",
    "# Deterministic split\n",
    "X_train, X_test, y_train, y_test = train_test_split(\n",
    "X.values, y.values, test_size=0.2, random_state=42\n",
    ")"
   ],
   "id": "e7d379786d1ec247",
   "outputs": [],
   "execution_count": 5
  },
  {
   "metadata": {
    "ExecuteTime": {
     "end_time": "2025-10-12T08:57:13.686437Z",
     "start_time": "2025-10-12T08:57:13.673926Z"
    }
   },
   "cell_type": "code",
   "source": [
    "\n",
    "\n",
    "# Scale (fit on train, transform both)\n",
    "scaler = StandardScaler()\n",
    "X_train_scaled = scaler.fit_transform(X_train)\n",
    "X_test_scaled = scaler.transform(X_test)\n",
    "\n",
    "\n",
    "config = MODEL_REGISTRY[\"linear\"]\n",
    "version = config[\"version\"]\n",
    "\n",
    "# Baseline model\n",
    "estimator_cls = config[\"estimator\"]\n",
    "estimator_kwargs = config.get(\"estimator_kwargs\", {})\n",
    "model = estimator_cls(**estimator_kwargs)\n",
    "model.fit(X_train_scaled, y_train)\n",
    "\n",
    "# Evaluate\n",
    "preds = model.predict(X_test_scaled)\n",
    "rmse = float(np.sqrt(mean_squared_error(y_test, preds)))"
   ],
   "id": "f1c6e31aa3ff41ba",
   "outputs": [],
   "execution_count": 6
  },
  {
   "metadata": {
    "ExecuteTime": {
     "end_time": "2025-10-12T08:57:16.944796Z",
     "start_time": "2025-10-12T08:57:16.937704Z"
    }
   },
   "cell_type": "code",
   "source": "rmse",
   "id": "64c2e68bc9261cd2",
   "outputs": [
    {
     "data": {
      "text/plain": [
       "(array([139.5475584 , 179.51720835, 134.03875572, 291.41702925,\n",
       "        123.78965872,  92.1723465 , 258.23238899, 181.33732057,\n",
       "         90.22411311, 108.63375858,  94.13865744, 168.43486358,\n",
       "         53.5047888 , 206.63081659, 100.12925869, 130.66657085,\n",
       "        219.53071499, 250.7803234 , 196.3688346 , 218.57511815,\n",
       "        207.35050182,  88.48340941,  70.43285917, 188.95914235,\n",
       "        154.8868162 , 159.36170122, 188.31263363, 180.39094033,\n",
       "         47.99046561, 108.97453871, 174.77897633,  86.36406656,\n",
       "        132.95761215, 184.53819483, 173.83220911, 190.35858492,\n",
       "        124.4156176 , 119.65110656, 147.95168682,  59.05405241,\n",
       "         71.62331856, 107.68284704, 165.45365458, 155.00975931,\n",
       "        171.04799096,  61.45761356,  71.66672581, 114.96732206,\n",
       "         51.57975523, 167.57599528, 152.52291955,  62.95568515,\n",
       "        103.49741722, 109.20751489, 175.64118426, 154.60296242,\n",
       "         94.41704366, 210.74209145, 120.2566205 ,  77.61585399,\n",
       "        187.93203995, 206.49337474, 140.63167076, 105.59678023,\n",
       "        130.70432536, 202.18534537, 171.13039501, 164.91423047,\n",
       "        124.72472569, 144.81030894, 181.99635452, 199.41369642,\n",
       "        234.21436188, 145.95665512,  79.86703276, 157.36941275,\n",
       "        192.74412541, 208.89814032, 158.58722555, 206.02195855,\n",
       "        107.47971675, 140.93598906,  54.82129332,  55.92573195,\n",
       "        115.01180018,  78.95584188,  81.56087285,  54.37997256,\n",
       "        166.2543518 ]),\n",
       " 53.85344583676594)"
      ]
     },
     "execution_count": 7,
     "metadata": {},
     "output_type": "execute_result"
    }
   ],
   "execution_count": 7
  }
 ],
 "metadata": {
  "kernelspec": {
   "display_name": "Python 3",
   "language": "python",
   "name": "python3"
  },
  "language_info": {
   "codemirror_mode": {
    "name": "ipython",
    "version": 2
   },
   "file_extension": ".py",
   "mimetype": "text/x-python",
   "name": "python",
   "nbconvert_exporter": "python",
   "pygments_lexer": "ipython2",
   "version": "2.7.6"
  }
 },
 "nbformat": 4,
 "nbformat_minor": 5
}
