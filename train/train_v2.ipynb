{
 "cells": [
  {
   "cell_type": "code",
   "execution_count": 8,
   "id": "087d59d5",
   "metadata": {},
   "outputs": [
    {
     "name": "stdout",
     "output_type": "stream",
     "text": [
      "Python 3.12.6\n"
     ]
    }
   ],
   "source": [
    "!python -V"
   ]
  },
  {
   "cell_type": "code",
   "execution_count": 9,
   "id": "bf20fc96",
   "metadata": {},
   "outputs": [],
   "source": [
    "from __future__ import annotations\n",
    "from sklearn.datasets import load_diabetes\n",
    "from sklearn.linear_model import LinearRegression, Ridge\n",
    "from sklearn.metrics import mean_squared_error, mean_absolute_error, r2_score\n",
    "from sklearn.model_selection import train_test_split, GridSearchCV, RandomizedSearchCV\n",
    "from sklearn.preprocessing import StandardScaler\n",
    "from sklearn.ensemble import RandomForestRegressor\n",
    "from typing import Dict, Any, Tuple\n",
    "import numpy as np\n",
    "import pandas as pd"
   ]
  },
  {
   "cell_type": "markdown",
   "id": "e0e25eb0",
   "metadata": {},
   "source": [
    "### You can add some model here and run all cells again:"
   ]
  },
  {
   "cell_type": "code",
   "execution_count": 10,
   "id": "0d13f6da",
   "metadata": {},
   "outputs": [],
   "source": [
    "MODEL_REGISTRY: Dict[str, Dict[str, Any]] = {\n",
    "    \"linear\": {\n",
    "        \"version\": \"v0.1\",\n",
    "        \"estimator\": LinearRegression,\n",
    "        \"estimator_kwargs\": {},\n",
    "        \"description\": \"StandardScaler + LinearRegression\",\n",
    "    },\n",
    "    \"ridge_base\": {  # NEW MODEL: Ridge without CV\n",
    "        \"version\": \"v0.2\",\n",
    "        \"estimator\": Ridge,\n",
    "        \"estimator_kwargs\": {\"alpha\": 1.0}, # Default alpha=1.0 from the original notebook\n",
    "        \"description\": \"StandardScaler + Ridge(alpha=1.0)\",\n",
    "    },\n",
    "    \"ridge_cv\": {\n",
    "        \"version\": \"v0.2\",\n",
    "        \"estimator\": GridSearchCV,\n",
    "        \"estimator_kwargs\": {\n",
    "            \"estimator\": Ridge(),\n",
    "            \"param_grid\": {\"alpha\": [0.01, 0.1, 1.0, 10.0, 100.0]},\n",
    "            \"cv\": 3,\n",
    "            \"scoring\": \"neg_mean_squared_error\",\n",
    "            \"n_jobs\": -1,\n",
    "        },\n",
    "        \"description\": \"StandardScaler + Ridge with GridSearchCV\",\n",
    "    },\n",
    "    \"random_forest\": {\n",
    "        \"version\": \"v0.3\",\n",
    "        \"estimator\": RandomForestRegressor,\n",
    "        \"estimator_kwargs\": {\"n_estimators\": 100, \"random_state\": 42},\n",
    "        \"description\": \"StandardScaler + RandomForestRegressor(n_estimators=100)\",\n",
    "    },\n",
    "    \"rf_grid_cv\": {\n",
    "        \"version\": \"v0.4\",\n",
    "        \"estimator\": GridSearchCV,\n",
    "        \"estimator_kwargs\": {\n",
    "            \"estimator\": RandomForestRegressor(random_state=42),\n",
    "            \"param_grid\": {\n",
    "                \"n_estimators\": [50, 100, 200],\n",
    "                \"max_depth\": [None, 5, 10, 20],\n",
    "                \"min_samples_split\": [2, 5, 10],\n",
    "                \"min_samples_leaf\": [1, 2, 4]\n",
    "            },\n",
    "            \"cv\": 3,\n",
    "            \"scoring\": \"neg_mean_squared_error\",\n",
    "            \"n_jobs\": -1,\n",
    "        },\n",
    "        \"description\": \"StandardScaler + RandomForestRegressor with GridSearchCV\",\n",
    "    },\n",
    "    \"rf_random_cv\": {\n",
    "        \"version\": \"v0.5\",\n",
    "        \"estimator\": RandomizedSearchCV,\n",
    "        \"estimator_kwargs\": {\n",
    "            \"estimator\": RandomForestRegressor(random_state=42),\n",
    "            \"param_distributions\": {\n",
    "                \"n_estimators\": [50, 100, 200],\n",
    "                \"max_depth\": [None, 5, 10, 20],\n",
    "                \"min_samples_split\": [2, 5, 10],\n",
    "                \"min_samples_leaf\": [1, 2, 4]\n",
    "            },\n",
    "            \"n_iter\": 10,\n",
    "            \"cv\": 3,\n",
    "            \"scoring\": \"neg_mean_squared_error\",\n",
    "            \"n_jobs\": -1,\n",
    "            \"random_state\": 42\n",
    "        },\n",
    "        \"description\": \"StandardScaler + RandomForestRegressor with RandomizedSearchCV\",\n",
    "    },\n",
    "}"
   ]
  },
  {
   "cell_type": "code",
   "execution_count": 11,
   "id": "4d6465f5",
   "metadata": {},
   "outputs": [],
   "source": [
    "# Load dataset\n",
    "Xy = load_diabetes(as_frame=True)\n",
    "X = Xy.frame.drop(columns=[\"target\"])\n",
    "y = Xy.frame[\"target\"]\n",
    "\n",
    "# Deterministic split\n",
    "X_train, X_test, y_train, y_test = train_test_split(\n",
    "    X.values, y.values, test_size=0.2, random_state=42\n",
    ")\n",
    "\n",
    "# Scale (fit on train, transform both)\n",
    "scaler = StandardScaler()\n",
    "X_train_scaled = scaler.fit_transform(X_train)\n",
    "X_test_scaled = scaler.transform(X_test)"
   ]
  },
  {
   "cell_type": "code",
   "execution_count": 12,
   "id": "543f1be9",
   "metadata": {},
   "outputs": [],
   "source": [
    "def train_and_evaluate_model(\n",
    "    model_key: str,\n",
    "    X_train_scaled: np.ndarray,\n",
    "    y_train: np.ndarray,\n",
    "    X_test_scaled: np.ndarray,\n",
    "    y_test: np.ndarray,\n",
    ") -> Tuple[str, float, float, float]:\n",
    "    \"\"\"Trains and evaluates a model from the MODEL_REGISTRY.\"\"\"\n",
    "    config = MODEL_REGISTRY[model_key]\n",
    "    \n",
    "    estimator_cls = config[\"estimator\"]\n",
    "    estimator_kwargs = config.get(\"estimator_kwargs\", {})\n",
    "    \n",
    "    # Initialize and train the model\n",
    "    model = estimator_cls(**estimator_kwargs)\n",
    "    model.fit(X_train_scaled, y_train)\n",
    "    \n",
    "    # Predict\n",
    "    preds = model.predict(X_test_scaled)\n",
    "    \n",
    "    # Evaluate\n",
    "    rmse = float(np.sqrt(mean_squared_error(y_test, preds)))\n",
    "    mae = mean_absolute_error(y_test, preds)\n",
    "    r2 = r2_score(y_test, preds)\n",
    "    \n",
    "    return config['description'], rmse, mae, r2"
   ]
  },
  {
   "cell_type": "code",
   "execution_count": 13,
   "id": "18347851",
   "metadata": {},
   "outputs": [
    {
     "name": "stdout",
     "output_type": "stream",
     "text": [
      "| Model                                                          | RMSE    | MAE     | R2     |\n",
      "|:---------------------------------------------------------------|:--------|:--------|:-------|\n",
      "| StandardScaler + LinearRegression                              | 53.8534 | 42.7941 | 0.4526 |\n",
      "| StandardScaler + Ridge(alpha=1.0)                              | 53.7775 | 42.812  | 0.4541 |\n",
      "| StandardScaler + Ridge with GridSearchCV                       | 53.8429 | 42.7962 | 0.4528 |\n",
      "| StandardScaler + RandomForestRegressor(n_estimators=100)       | 54.3984 | 44.1712 | 0.4415 |\n",
      "| StandardScaler + RandomForestRegressor with GridSearchCV       | 53.7869 | 43.6515 | 0.454  |\n",
      "| StandardScaler + RandomForestRegressor with RandomizedSearchCV | 53.9302 | 43.7319 | 0.451  |\n"
     ]
    }
   ],
   "source": [
    "results = []\n",
    "for model_name in MODEL_REGISTRY:\n",
    "    desc, rmse, mae, r2 = train_and_evaluate_model(\n",
    "        model_name,\n",
    "        X_train_scaled,\n",
    "        y_train,\n",
    "        X_test_scaled,\n",
    "        y_test,\n",
    "    )\n",
    "    results.append({'Model': desc, 'RMSE': rmse, 'MAE': mae, 'R2': r2})\n",
    "\n",
    "results_df = pd.DataFrame(results)\n",
    "results_df['RMSE'] = results_df['RMSE'].round(4)\n",
    "results_df['MAE'] = results_df['MAE'].round(4)\n",
    "results_df['R2'] = results_df['R2'].round(4)\n",
    "\n",
    "# Print results in a markdown table format\n",
    "print(results_df.to_markdown(index=False, numalign=\"left\", stralign=\"left\"))"
   ]
  }
 ],
 "metadata": {
  "kernelspec": {
   "display_name": "my_env",
   "language": "python",
   "name": "python3"
  },
  "language_info": {
   "codemirror_mode": {
    "name": "ipython",
    "version": 3
   },
   "file_extension": ".py",
   "mimetype": "text/x-python",
   "name": "python",
   "nbconvert_exporter": "python",
   "pygments_lexer": "ipython3",
   "version": "3.12.6"
  }
 },
 "nbformat": 4,
 "nbformat_minor": 5
}
